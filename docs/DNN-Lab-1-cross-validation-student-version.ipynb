{
  "nbformat": 4,
  "nbformat_minor": 0,
  "metadata": {
    "kernelspec": {
      "name": "python3",
      "display_name": "Python 3"
    },
    "colab": {
      "provenance": []
    }
  },
  "cells": [
    {
      "cell_type": "markdown",
      "source": [
        "<center><img src='https://drive.google.com/uc?id=1_utx_ZGclmCwNttSe40kYA6VHzNocdET' height=\"60\"></center>\n",
        "\n",
        "AI TECH - Akademia Innowacyjnych Zastosowań Technologii Cyfrowych. Program Operacyjny Polska Cyfrowa na lata 2014-2020\n",
        "<hr>\n",
        "\n",
        "<center><img src='https://drive.google.com/uc?id=1BXZ0u3562N_MqCLcekI-Ens77Kk4LpPm'></center>\n",
        "\n",
        "<center>\n",
        "Projekt współfinansowany ze środków Unii Europejskiej w ramach Europejskiego Funduszu Rozwoju Regionalnego\n",
        "Program Operacyjny Polska Cyfrowa na lata 2014-2020,\n",
        "Oś Priorytetowa nr 3 \"Cyfrowe kompetencje społeczeństwa\" Działanie  nr 3.2 \"Innowacyjne rozwiązania na rzecz aktywizacji cyfrowej\"\n",
        "Tytuł projektu:  „Akademia Innowacyjnych Zastosowań Technologii Cyfrowych (AI Tech)”\n",
        "    </center>"
      ],
      "metadata": {
        "id": "Jrz1Kic6-keH"
      }
    },
    {
      "cell_type": "markdown",
      "metadata": {
        "id": "qMeI3m9u-ZBN"
      },
      "source": [
        "# Validation and cross-validation\n",
        "\n",
        "In this exercise you will implement a validation pipeline.\n",
        "\n",
        "At the end of the MSLE exercise you tested your model against the training and test datasets. As you should observe, there's a gap between the results. By validating your model, not only should you be able to anticipate the test time performance, but also have a method to compare different models.\n",
        "\n",
        "Implement the basic validation method, i.e. a random split. Test it with your model from Exercise MSLE."
      ]
    },
    {
      "cell_type": "code",
      "source": [
        "%matplotlib inline\n",
        "\n",
        "!wget -O mieszkania.csv https://www.dropbox.com/s/zey0gx91pna8irj/mieszkania.csv?dl=1\n",
        "!wget -O mieszkania_test.csv https://www.dropbox.com/s/dbrj6sbxb4ayqjz/mieszkania_test.csv?dl=1"
      ],
      "metadata": {
        "colab": {
          "base_uri": "https://localhost:8080/"
        },
        "id": "tMxpoCCqXXWZ",
        "outputId": "7d2e50a8-a5a5-4000-e86f-b66ab99494bc"
      },
      "execution_count": 1,
      "outputs": [
        {
          "output_type": "stream",
          "name": "stdout",
          "text": [
            "--2024-10-28 18:18:57--  https://www.dropbox.com/s/zey0gx91pna8irj/mieszkania.csv?dl=1\n",
            "Resolving www.dropbox.com (www.dropbox.com)... 162.125.5.18, 2620:100:601d:18::a27d:512\n",
            "Connecting to www.dropbox.com (www.dropbox.com)|162.125.5.18|:443... connected.\n",
            "HTTP request sent, awaiting response... 302 Found\n",
            "Location: https://www.dropbox.com/scl/fi/3x5umw93vtxvmp037wczv/mieszkania.csv?rlkey=dmvzaueu361g7s2w6ui6m9ryb&dl=1 [following]\n",
            "--2024-10-28 18:18:57--  https://www.dropbox.com/scl/fi/3x5umw93vtxvmp037wczv/mieszkania.csv?rlkey=dmvzaueu361g7s2w6ui6m9ryb&dl=1\n",
            "Reusing existing connection to www.dropbox.com:443.\n",
            "HTTP request sent, awaiting response... 302 Found\n",
            "Location: https://ucba3a9f616e2cf1eda196b7c341.dl.dropboxusercontent.com/cd/0/inline/CdUNkbl-0ho3Wx3vQIzrkZRwa61dJ9sUd0FI8GpYUGTRKAuiUyzLeGOy80JszSWOeZV1kLeQrmE2_YbEjj-b_PWoezH9t-lfQLT0EcCSd_MoEwIyUE9U7a4i-a7HFV2Ffpw/file?dl=1# [following]\n",
            "--2024-10-28 18:18:58--  https://ucba3a9f616e2cf1eda196b7c341.dl.dropboxusercontent.com/cd/0/inline/CdUNkbl-0ho3Wx3vQIzrkZRwa61dJ9sUd0FI8GpYUGTRKAuiUyzLeGOy80JszSWOeZV1kLeQrmE2_YbEjj-b_PWoezH9t-lfQLT0EcCSd_MoEwIyUE9U7a4i-a7HFV2Ffpw/file?dl=1\n",
            "Resolving ucba3a9f616e2cf1eda196b7c341.dl.dropboxusercontent.com (ucba3a9f616e2cf1eda196b7c341.dl.dropboxusercontent.com)... 162.125.5.15, 2620:100:6019:15::a27d:40f\n",
            "Connecting to ucba3a9f616e2cf1eda196b7c341.dl.dropboxusercontent.com (ucba3a9f616e2cf1eda196b7c341.dl.dropboxusercontent.com)|162.125.5.15|:443... connected.\n",
            "HTTP request sent, awaiting response... 200 OK\n",
            "Length: 6211 (6.1K) [application/binary]\n",
            "Saving to: ‘mieszkania.csv’\n",
            "\n",
            "mieszkania.csv      100%[===================>]   6.07K  --.-KB/s    in 0s      \n",
            "\n",
            "2024-10-28 18:18:58 (1.27 GB/s) - ‘mieszkania.csv’ saved [6211/6211]\n",
            "\n",
            "--2024-10-28 18:18:59--  https://www.dropbox.com/s/dbrj6sbxb4ayqjz/mieszkania_test.csv?dl=1\n",
            "Resolving www.dropbox.com (www.dropbox.com)... 162.125.5.18, 2620:100:601d:18::a27d:512\n",
            "Connecting to www.dropbox.com (www.dropbox.com)|162.125.5.18|:443... connected.\n",
            "HTTP request sent, awaiting response... 302 Found\n",
            "Location: https://www.dropbox.com/scl/fi/s7lkqoxzh65w72xl7gh7g/mieszkania_test.csv?rlkey=xn2h80n4zabryg5zfn4si52gf&dl=1 [following]\n",
            "--2024-10-28 18:18:59--  https://www.dropbox.com/scl/fi/s7lkqoxzh65w72xl7gh7g/mieszkania_test.csv?rlkey=xn2h80n4zabryg5zfn4si52gf&dl=1\n",
            "Reusing existing connection to www.dropbox.com:443.\n",
            "HTTP request sent, awaiting response... 302 Found\n",
            "Location: https://uce41448c414e3d3154f719eb9ad.dl.dropboxusercontent.com/cd/0/inline/CdUhsRX5plcWOiydeMxthjhWpUA-Qw3CBavSwVcDvnEg0tAlZMtmOz6ocPCwuBmkgYSrJfhPxIh4F8K4y_fJqk-P6_YTY6bOxKz4MptJibk-dskP-b6eL0nYqWltddqkuws/file?dl=1# [following]\n",
            "--2024-10-28 18:19:00--  https://uce41448c414e3d3154f719eb9ad.dl.dropboxusercontent.com/cd/0/inline/CdUhsRX5plcWOiydeMxthjhWpUA-Qw3CBavSwVcDvnEg0tAlZMtmOz6ocPCwuBmkgYSrJfhPxIh4F8K4y_fJqk-P6_YTY6bOxKz4MptJibk-dskP-b6eL0nYqWltddqkuws/file?dl=1\n",
            "Resolving uce41448c414e3d3154f719eb9ad.dl.dropboxusercontent.com (uce41448c414e3d3154f719eb9ad.dl.dropboxusercontent.com)... 162.125.5.15, 2620:100:601d:15::a27d:50f\n",
            "Connecting to uce41448c414e3d3154f719eb9ad.dl.dropboxusercontent.com (uce41448c414e3d3154f719eb9ad.dl.dropboxusercontent.com)|162.125.5.15|:443... connected.\n",
            "HTTP request sent, awaiting response... 200 OK\n",
            "Length: 6247 (6.1K) [application/binary]\n",
            "Saving to: ‘mieszkania_test.csv’\n",
            "\n",
            "mieszkania_test.csv 100%[===================>]   6.10K  --.-KB/s    in 0s      \n",
            "\n",
            "2024-10-28 18:19:00 (2.39 GB/s) - ‘mieszkania_test.csv’ saved [6247/6247]\n",
            "\n"
          ]
        }
      ]
    },
    {
      "cell_type": "code",
      "source": [
        "from typing import Tuple\n",
        "\n",
        "import numpy as np\n",
        "import pandas as pd\n",
        "from sklearn import preprocessing\n",
        "\n",
        "np.random.seed(357)"
      ],
      "metadata": {
        "id": "N-c841bp9InV"
      },
      "execution_count": 2,
      "outputs": []
    },
    {
      "cell_type": "code",
      "source": [
        "def load(name: str) -> Tuple[np.ndarray, np.array]:\n",
        "    data = pd.read_csv(name)\n",
        "    x = data.loc[:, data.columns != 'cena'].to_numpy()\n",
        "    y = data['cena'].to_numpy()\n",
        "\n",
        "    return x, y"
      ],
      "metadata": {
        "id": "MNjo9j9EXD84"
      },
      "execution_count": 3,
      "outputs": []
    },
    {
      "cell_type": "code",
      "source": [
        "x_train, y_train = load('mieszkania.csv')\n",
        "x_test, y_test = load('mieszkania_test.csv')"
      ],
      "metadata": {
        "id": "uoYy1AU5XD_e"
      },
      "execution_count": 4,
      "outputs": []
    },
    {
      "cell_type": "code",
      "source": [
        "labelencoder = preprocessing.LabelEncoder()\n",
        "labelencoder.fit(x_train[:, 1])\n",
        "x_train[:, 1] = labelencoder.transform(x_train[:, 1])\n",
        "x_test[:, 1] = labelencoder.transform(x_test[:, 1])\n",
        "\n",
        "x_train = x_train.astype(np.float64)\n",
        "x_test = x_test.astype(np.float64)"
      ],
      "metadata": {
        "id": "qX2qTiVdXEEb"
      },
      "execution_count": 5,
      "outputs": []
    },
    {
      "cell_type": "code",
      "source": [
        "def gradient_descent_linear_regression(X, y, learning_rate=1e-7, n_iterations=100000):\n",
        "\n",
        "    bias = np.mean(y_train)\n",
        "    weight = np.random.normal(0, 1, size=X.shape[1])\n",
        "    m = len(y)\n",
        "    for iteration in range(n_iterations):\n",
        "        y_pred = X @ weight + bias\n",
        "        d_bias = 2 * (1 / m) * np.sum(y_pred - y)\n",
        "        d_weight = 2 * (1 / m) * X.T @ (y_pred - y)\n",
        "        bias -= learning_rate * d_bias\n",
        "        weight -= learning_rate * d_weight\n",
        "\n",
        "    return weight, bias"
      ],
      "metadata": {
        "id": "DvcWJMyjX9TN"
      },
      "execution_count": 81,
      "outputs": []
    },
    {
      "cell_type": "code",
      "source": [
        "def mean_least_squares_error(y_true, y_pred):\n",
        "    m = len(y_true)\n",
        "    mlse = (1 / m) * np.sum((y_true - y_pred) ** 2)\n",
        "    return mlse\n"
      ],
      "metadata": {
        "id": "08ND0pfgY1Jf"
      },
      "execution_count": 82,
      "outputs": []
    },
    {
      "cell_type": "code",
      "metadata": {
        "id": "Ca0nRHYL-ZBR",
        "colab": {
          "base_uri": "https://localhost:8080/"
        },
        "outputId": "9e63af85-c655-43f8-fb17-162d4fde22b7"
      },
      "source": [
        "#######################################################\n",
        "# TODO: Implement the basic validation method,        #\n",
        "# compare MSLE on training, validation, and test sets #\n",
        "def basic_validation(x_train, y_train, x_test, y_test, prt=True):\n",
        "\n",
        "  weight, bias = gradient_descent_linear_regression(x_train, y_train)\n",
        "\n",
        "  y_pred_train = x_train @ weight + bias\n",
        "  y_pred_test = x_test @ weight + bias\n",
        "\n",
        "  if prt:\n",
        "    print(f\"MLSE for train set: {mean_least_squares_error(y_pred_train, y_train)}\")\n",
        "    print(f\"MLSE for test set: {mean_least_squares_error(y_pred_train, y_train)}\")\n",
        "\n",
        "  return mean_least_squares_error(y_pred_train, y_train), mean_least_squares_error(y_pred_train, y_train)\n",
        "\n",
        "basic_validation(x_train, y_train, x_test, y_test)\n",
        "#######################################################\n"
      ],
      "execution_count": 83,
      "outputs": [
        {
          "output_type": "stream",
          "name": "stdout",
          "text": [
            "MLSE for train set: 15149047658.235533\n",
            "MLSE for test set: 15149047658.235533\n"
          ]
        },
        {
          "output_type": "execute_result",
          "data": {
            "text/plain": [
              "(15149047658.235533, 15149047658.235533)"
            ]
          },
          "metadata": {},
          "execution_count": 83
        }
      ]
    },
    {
      "cell_type": "markdown",
      "metadata": {
        "id": "tnnf-KvC-ZBW"
      },
      "source": [
        "To make the random split validation reliable, a huge chunk of training data may be needed. To get over this problem, one may apply cross-validaiton.\n",
        "\n",
        "![alt-text](https://chrisjmccormick.files.wordpress.com/2013/07/10_fold_cv.png)"
      ]
    },
    {
      "cell_type": "markdown",
      "metadata": {
        "id": "sbu4F_h9-ZBX"
      },
      "source": [
        "Let's now implement the method. Make sure that:\n",
        "* number of partitions is a parameter,\n",
        "* the method is not limited to `mieszkania.csv`,\n",
        "* the method is not limited to one specific model."
      ]
    },
    {
      "cell_type": "code",
      "metadata": {
        "id": "dbfmYPOh-ZBY",
        "outputId": "31ef3937-f1e4-48d1-bc8d-3ec298f45f4f",
        "colab": {
          "base_uri": "https://localhost:8080/"
        }
      },
      "source": [
        "####################################\n",
        "# TODO: Implement cross-validation #\n",
        "####################################\n",
        "\n",
        "def cross_validation(x_train, y_train, x_test, y_test, folds=5):\n",
        "\n",
        "  x = np.concatenate((x_train, x_test))\n",
        "  y = np.concatenate((y_train, y_test))\n",
        "  n = len(y)\n",
        "  rg = np.linspace(0, n-1, n, dtype=np.int16)\n",
        "  np.random.shuffle(rg)\n",
        "  m = len(rg) / folds\n",
        "\n",
        "  tr = []\n",
        "  te = []\n",
        "  for i in range(folds):\n",
        "    idcs = rg[int(i*m):int(m*(i+1))]\n",
        "    x_te = x[idcs]\n",
        "    y_te = y[idcs]\n",
        "    x_tr = x[~idcs]\n",
        "    y_tr = y[~idcs]\n",
        "    mlse_tr, mlse_te = basic_validation(x_tr, y_tr, x_te, y_te, prt=False)\n",
        "    tr.append(mlse_tr)\n",
        "    te.append(mlse_te)\n",
        "\n",
        "  mean_tr = sum(tr) / folds\n",
        "  mean_te = sum(te) / folds\n",
        "\n",
        "  print(f\"Mean train error: {mean_tr}\")\n",
        "  print(f\"Mean test error: {mean_te}\")\n",
        "  return mean_tr, mean_te\n",
        "\n",
        "mean_tr, mean_te = cross_validation(x_train, y_train, x_test, y_test)"
      ],
      "execution_count": 57,
      "outputs": [
        {
          "output_type": "stream",
          "name": "stdout",
          "text": [
            "Mean train error: 16520605620.231243\n",
            "Mean test error: 16520605620.231243\n"
          ]
        }
      ]
    },
    {
      "cell_type": "markdown",
      "metadata": {
        "id": "sF2-UXXR-ZBc"
      },
      "source": [
        "Recall that sometimes validation may be tricky, e.g. significant class imbalance, having a small number of subjects, geographically clustered instances...\n",
        "\n",
        "What could in theory go wrong here with random, unstratified partitions? Think about potential solutions and investigate the data in order to check whether these problems arise here."
      ]
    },
    {
      "cell_type": "code",
      "metadata": {
        "id": "bt-y3kUy-ZBe",
        "outputId": "fb6a4aaf-c0ab-4a24-d148-e6bb1c22a626",
        "colab": {
          "base_uri": "https://localhost:8080/",
          "height": 430
        }
      },
      "source": [
        "##############################\n",
        "# TODO: Investigate the data #\n",
        "##############################\n",
        "\n",
        "#Potential way for data investigation could be plotting distributions of data. We can use histograms for that matter\n",
        "\n",
        "import matplotlib.pyplot as plt\n",
        "\n",
        "dist1 = plt.hist(x_train[:,5])\n",
        "\n",
        "#strong class inbalace appears only in the 3rd feature (counting from zeroth)"
      ],
      "execution_count": 94,
      "outputs": [
        {
          "output_type": "display_data",
          "data": {
            "text/plain": [
              "<Figure size 640x480 with 1 Axes>"
            ],
            "image/png": "[encoded data removed]"
          },
          "metadata": {}
        }
      ]
    },
    {
      "cell_type": "code",
      "source": [],
      "metadata": {
        "id": "tgavgEK4YZkr"
      },
      "execution_count": null,
      "outputs": []
    }
  ]
}